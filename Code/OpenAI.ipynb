{
 "cells": [
  {
   "cell_type": "code",
   "execution_count": null,
   "metadata": {},
   "outputs": [],
   "source": [
    "import openai\n",
    "import json\n",
    "import time"
   ]
  },
  {
   "cell_type": "code",
   "execution_count": null,
   "metadata": {},
   "outputs": [],
   "source": [
    "def authentication():\n",
    "    data = json.load(open('.auth.json'))\n",
    "    openai.organization = data['openai']['organization']\n",
    "    openai.api_key = data['openai']['api_key']\n",
    "    return"
   ]
  },
  {
   "cell_type": "code",
   "execution_count": null,
   "metadata": {},
   "outputs": [],
   "source": [
    "\n",
    "\n",
    "def send_message_openai(text, MODEL=\"gpt-3.5-turbo\", temperature=0,\n",
    "                               role=\"user\", timeout=10):\n",
    "    messages = [\n",
    "        {\"role\": role, \"content\": text},\n",
    "    ]\n",
    "    try:\n",
    "        response = openai.ChatCompletion.create(\n",
    "                model=MODEL,\n",
    "                messages=messages,\n",
    "                temperature=temperature,\n",
    "            )\n",
    "    except openai.error.Timeout as e:\n",
    "        # Handle timeout error, e.g. retry or log\n",
    "        print(f\"OpenAI API request timed out: {e}\")\n",
    "        return\n",
    "    except openai.error.APIError as e:\n",
    "        # Handle API error, e.g. retry or log\n",
    "        print(f\"OpenAI API returned an API Error: {e}\")\n",
    "        return\n",
    "    except openai.error.APIConnectionError as e:\n",
    "        # Handle connection error, e.g. check network or log\n",
    "        print(f\"OpenAI API request failed to connect: {e}\")\n",
    "        return\n",
    "    except openai.error.InvalidRequestError as e:\n",
    "        # Handle invalid request error, e.g. validate parameters or log\n",
    "        print(f\"OpenAI API request was invalid: {e}\")\n",
    "        return \n",
    "    except openai.error.AuthenticationError as e:\n",
    "        # Handle authentication error, e.g. check credentials or log\n",
    "        print(f\"OpenAI API request was not authorized: {e}\")\n",
    "        return \n",
    "    except openai.error.PermissionError as e:\n",
    "        # Handle permission error, e.g. check scope or log\n",
    "        print(f\"OpenAI API request was not permitted: {e}\")\n",
    "        return \n",
    "    except openai.error.RateLimitError as e:\n",
    "        # Handle rate limit error, e.g. wait or log\n",
    "        print(f\"OpenAI API request exceeded rate limit: {e}\")\n",
    "        time.sleep(50)\n",
    "        return\n",
    "    except openai.error.ServiceUnavailableError as e:\n",
    "        # Handle rate limit error, e.g. wait or log\n",
    "        print(f\"OpenAI API ServiceUnavailableError: {e}\")\n",
    "        return \n",
    "    except TimeoutError as e:\n",
    "        # Handle rate limit error, e.g. wait or log\n",
    "        print(f\"TimeoutError: {e}\")\n",
    "        return \n",
    "    return response[\"choices\"][0][\"message\"][\"content\"]"
   ]
  },
  {
   "cell_type": "code",
   "execution_count": null,
   "metadata": {},
   "outputs": [],
   "source": [
    "def check_and_create_columns(df, column_names):\n",
    "    for column_name in column_names:\n",
    "        if column_name not in df.columns:\n",
    "            df[column_name] = None"
   ]
  },
  {
   "cell_type": "code",
   "execution_count": null,
   "metadata": {},
   "outputs": [],
   "source": [
    "def loop(df, nombre_archivo):\n",
    "    # Preparación\n",
    "    check_and_create_columns(df, ['Prompt_gpt3', 'Prompt_gpt4',])\n",
    "    for index, row in df.iterrows():\n",
    "        print(f\"index: {index}\")\n",
    "        df.loc[index, f'Prompt_gpt3'] = send_message_openai(df.loc[index, 'question'])\n",
    "        df.loc[index, f'Prompt_gpt4'] = send_message_openai(df.loc[index, 'question'], MODEL='gpt-4')\n",
    "\n",
    "    df.to_excel(f'{nombre_archivo}_respuesta.xlsx', index=False)\n",
    "    return df"
   ]
  },
  {
   "cell_type": "code",
   "execution_count": null,
   "metadata": {},
   "outputs": [],
   "source": [
    "import pandas as pd\n",
    "\n",
    "file_name = 'stuvoc_spanish_questions'\n",
    "\n",
    "df = pd.read_excel(f'{file_name}.xlsx')\n",
    "\n",
    "authentication()\n"
   ]
  },
  {
   "cell_type": "code",
   "execution_count": null,
   "metadata": {},
   "outputs": [],
   "source": [
    "results_df = loop(df, file_name)"
   ]
  }
 ],
 "metadata": {
  "kernelspec": {
   "display_name": "General",
   "language": "python",
   "name": "python3"
  },
  "language_info": {
   "codemirror_mode": {
    "name": "ipython",
    "version": 3
   },
   "file_extension": ".py",
   "mimetype": "text/x-python",
   "name": "python",
   "nbconvert_exporter": "python",
   "pygments_lexer": "ipython3",
   "version": "3.11.4"
  }
 },
 "nbformat": 4,
 "nbformat_minor": 2
}
